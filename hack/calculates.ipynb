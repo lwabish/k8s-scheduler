{
 "cells": [
  {
   "cell_type": "code",
   "execution_count": 29,
   "id": "0ea4240e-ae8c-4586-94b0-0999d2e283e8",
   "metadata": {},
   "outputs": [],
   "source": [
    "import math\n",
    "\n",
    "# mem_g=[1,2,5,8,10,15,20,32,40,50,60]\n",
    "mem_g = [0.1,0.2,1.1,1.2,1.5,2,3,5,6,7,9,10,13,15,17,20,25,32]\n",
    "mem_g = list(range(32))"
   ]
  },
  {
   "cell_type": "markdown",
   "id": "bf5557b4-3424-49bb-8104-219a98e464c8",
   "metadata": {
    "tags": []
   },
   "source": [
    "## normalization"
   ]
  },
  {
   "cell_type": "code",
   "execution_count": 30,
   "id": "2fd5a782-cf4c-4b73-b486-36be68759022",
   "metadata": {},
   "outputs": [],
   "source": [
    "_allocatable=32"
   ]
  },
  {
   "cell_type": "code",
   "execution_count": 39,
   "id": "1666c4fb-4792-4810-a54e-835ddeb0e05c",
   "metadata": {},
   "outputs": [],
   "source": [
    "def normalization(max_value,value):\n",
    "    return value/max_value"
   ]
  },
  {
   "cell_type": "code",
   "execution_count": 40,
   "id": "5d635bc1-d8ab-4564-85f9-3944f3b86fde",
   "metadata": {},
   "outputs": [],
   "source": [
    "normalized = list(zip(mem_g,list(map(lambda x:normalization(_allocatable,x),mem_g))))"
   ]
  },
  {
   "cell_type": "code",
   "execution_count": 41,
   "id": "c1e884d8-4c42-446b-bc0b-9fd2f277cb93",
   "metadata": {},
   "outputs": [
    {
     "data": {
      "text/plain": [
       "[(0, 0.0),\n",
       " (1, 0.03125),\n",
       " (2, 0.0625),\n",
       " (3, 0.09375),\n",
       " (4, 0.125),\n",
       " (5, 0.15625),\n",
       " (6, 0.1875),\n",
       " (7, 0.21875),\n",
       " (8, 0.25),\n",
       " (9, 0.28125),\n",
       " (10, 0.3125),\n",
       " (11, 0.34375),\n",
       " (12, 0.375),\n",
       " (13, 0.40625),\n",
       " (14, 0.4375),\n",
       " (15, 0.46875),\n",
       " (16, 0.5),\n",
       " (17, 0.53125),\n",
       " (18, 0.5625),\n",
       " (19, 0.59375),\n",
       " (20, 0.625),\n",
       " (21, 0.65625),\n",
       " (22, 0.6875),\n",
       " (23, 0.71875),\n",
       " (24, 0.75),\n",
       " (25, 0.78125),\n",
       " (26, 0.8125),\n",
       " (27, 0.84375),\n",
       " (28, 0.875),\n",
       " (29, 0.90625),\n",
       " (30, 0.9375),\n",
       " (31, 0.96875)]"
      ]
     },
     "execution_count": 41,
     "metadata": {},
     "output_type": "execute_result"
    }
   ],
   "source": [
    "normalized"
   ]
  },
  {
   "cell_type": "markdown",
   "id": "6ac74d6d-ece3-404f-a359-ed8af2692e2a",
   "metadata": {
    "tags": []
   },
   "source": [
    "## sigmoid"
   ]
  },
  {
   "cell_type": "code",
   "execution_count": 42,
   "id": "c908eb46-b6a9-46e9-8985-246bf8b34420",
   "metadata": {},
   "outputs": [],
   "source": [
    "def sigmoid(x):\n",
    "  return 1 / (1 + math.exp(-x))"
   ]
  },
  {
   "cell_type": "code",
   "execution_count": 43,
   "id": "a42ca15f-c5ed-42d3-a607-1f5a89dcb59a",
   "metadata": {
    "scrolled": true,
    "tags": []
   },
   "outputs": [
    {
     "data": {
      "text/plain": [
       "[((0, 0.0), 0.5),\n",
       " ((1, 0.03125), 0.5312093733737563),\n",
       " ((2, 0.0625), 0.5621765008857981),\n",
       " ((3, 0.09375), 0.5926665999540697),\n",
       " ((4, 0.125), 0.6224593312018546),\n",
       " ((5, 0.15625), 0.6513548646660542),\n",
       " ((6, 0.1875), 0.679178699175393),\n",
       " ((7, 0.21875), 0.7057850278370112),\n",
       " ((8, 0.25), 0.7310585786300049),\n",
       " ((9, 0.28125), 0.7549149868676283),\n",
       " ((10, 0.3125), 0.7772998611746911),\n",
       " ((11, 0.34375), 0.7981867777396212),\n",
       " ((12, 0.375), 0.8175744761936437),\n",
       " ((13, 0.40625), 0.8354835371034369),\n",
       " ((14, 0.4375), 0.8519528019683106),\n",
       " ((15, 0.46875), 0.8670357598021706),\n",
       " ((16, 0.5), 0.8807970779778823),\n",
       " ((17, 0.53125), 0.8933094060543487),\n",
       " ((18, 0.5625), 0.9046505351008906),\n",
       " ((19, 0.59375), 0.9149009549929797),\n",
       " ((20, 0.625), 0.9241418199787566),\n",
       " ((21, 0.65625), 0.9324533088603709),\n",
       " ((22, 0.6875), 0.9399133498259924),\n",
       " ((23, 0.71875), 0.9465966702001757),\n",
       " ((24, 0.75), 0.9525741268224334),\n",
       " ((25, 0.78125), 0.9579122720843811),\n",
       " ((26, 0.8125), 0.9626731126558706),\n",
       " ((27, 0.84375), 0.9669140216112958),\n",
       " ((28, 0.875), 0.9706877692486436),\n",
       " ((29, 0.90625), 0.9740426428022031),\n",
       " ((30, 0.9375), 0.9770226300899744),\n",
       " ((31, 0.96875), 0.9796676466573412)]"
      ]
     },
     "execution_count": 43,
     "metadata": {},
     "output_type": "execute_result"
    }
   ],
   "source": [
    "list(zip(normalized ,list(map(lambda x:sigmoid(x[1]*4),normalized))))"
   ]
  },
  {
   "cell_type": "code",
   "execution_count": null,
   "id": "36a356c1-36f1-4b59-a4c6-4df0b31cba8d",
   "metadata": {},
   "outputs": [],
   "source": []
  }
 ],
 "metadata": {
  "kernelspec": {
   "display_name": "Python 3 (ipykernel)",
   "language": "python",
   "name": "python3"
  },
  "language_info": {
   "codemirror_mode": {
    "name": "ipython",
    "version": 3
   },
   "file_extension": ".py",
   "mimetype": "text/x-python",
   "name": "python",
   "nbconvert_exporter": "python",
   "pygments_lexer": "ipython3",
   "version": "3.8.10"
  }
 },
 "nbformat": 4,
 "nbformat_minor": 5
}